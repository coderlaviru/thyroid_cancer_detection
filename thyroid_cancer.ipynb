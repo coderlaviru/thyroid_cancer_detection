{
 "cells": [
  {
   "cell_type": "markdown",
   "id": "e04f1729-dedf-4249-89c6-a2c73ebcc23a",
   "metadata": {},
   "source": [
    "## Importing Libraries"
   ]
  },
  {
   "cell_type": "code",
   "execution_count": null,
   "id": "0664732e-970b-431f-8501-618b59db7dd9",
   "metadata": {},
   "outputs": [],
   "source": [
    "import pandas as pd\n",
    "import numpy as np\n",
    "import matplotlib.pyplot as plt\n",
    "import seaborn as sns\n",
    "from sklearn.model_selection import train_test_split, GridSearchCV\n",
    "from sklearn.preprocessing import LabelEncoder, StandardScaler\n",
    "from sklearn.ensemble import RandomForestClassifier\n",
    "from sklearn.metrics import accuracy_score, classification_report, confusion_matrix, roc_auc_score,roc_curve, auc\n"
   ]
  },
  {
   "cell_type": "markdown",
   "id": "2dbe39cc-dbdd-4789-a859-4a655d256216",
   "metadata": {},
   "source": [
    "## Loading Dataset"
   ]
  },
  {
   "cell_type": "code",
   "execution_count": null,
   "id": "11139f5b-692b-40f6-a977-92086261e16c",
   "metadata": {},
   "outputs": [],
   "source": [
    "df = pd.read_csv(r\"C:\\Users\\lakshita\\Desktop\\datasets\\thyroid_cancer.csv\")"
   ]
  },
  {
   "cell_type": "markdown",
   "id": "a8e2b495-835d-4a89-bd01-f3e9886a902b",
   "metadata": {},
   "source": [
    "## Data Processing"
   ]
  },
  {
   "cell_type": "code",
   "execution_count": null,
   "id": "5a84d96d-cf3e-47c3-88d6-feb416b5502d",
   "metadata": {},
   "outputs": [],
   "source": [
    "df.head()"
   ]
  },
  {
   "cell_type": "code",
   "execution_count": null,
   "id": "ca4f61df-1ec3-479f-ba35-8358e5ced26b",
   "metadata": {},
   "outputs": [],
   "source": [
    "df.head()"
   ]
  },
  {
   "cell_type": "code",
   "execution_count": null,
   "id": "fe999b0f-08da-4cd9-92c8-51944b150fa2",
   "metadata": {},
   "outputs": [],
   "source": [
    "df.info()"
   ]
  },
  {
   "cell_type": "markdown",
   "id": "5d08e69e-4c55-4524-9310-8311e85bbd16",
   "metadata": {},
   "source": [
    "## Checking NULL values"
   ]
  },
  {
   "cell_type": "code",
   "execution_count": null,
   "id": "4e6b5d44-a320-47c1-912a-b45363d39db0",
   "metadata": {},
   "outputs": [],
   "source": [
    "df.isnull().sum()"
   ]
  },
  {
   "cell_type": "markdown",
   "id": "8a1cc80a-9226-4446-b50c-b174448ce0dd",
   "metadata": {},
   "source": [
    "## Exploratory Data Analysis (EDA) "
   ]
  },
  {
   "cell_type": "code",
   "execution_count": null,
   "id": "64222acd-691d-4c64-babd-91e01a9eb67c",
   "metadata": {},
   "outputs": [],
   "source": [
    "sns.pairplot(df, hue=\"Recurred\", palette='husl')\n",
    "plt.show()"
   ]
  },
  {
   "cell_type": "code",
   "execution_count": null,
   "id": "77aa24ff-9635-4ded-8455-a5b80961b9ec",
   "metadata": {},
   "outputs": [],
   "source": [
    "# Histograms for numerical features\n",
    "df.hist(figsize=(8, 4), bins=20)\n",
    "plt.suptitle(\"Distribution of Numerical Features\", fontsize=15)\n",
    "plt.show()"
   ]
  },
  {
   "cell_type": "markdown",
   "id": "1f03f9c6-e17e-41d5-9dd0-0021778ecaf5",
   "metadata": {},
   "source": [
    "## Recurrence vs Risk Level"
   ]
  },
  {
   "cell_type": "code",
   "execution_count": null,
   "id": "26928b4b-0c92-4aa8-a3ad-3b70bc25c369",
   "metadata": {},
   "outputs": [],
   "source": [
    "plt.figure(figsize=(8, 5))\n",
    "sns.countplot(x='Risk', hue='Recurred', data=df, palette='coolwarm')\n",
    "plt.title('Thyroid Cancer Recurrence by Risk Level')\n",
    "plt.show()"
   ]
  },
  {
   "cell_type": "code",
   "execution_count": null,
   "id": "f03b9f54-b498-4538-b173-7f1516b95c2a",
   "metadata": {},
   "outputs": [],
   "source": [
    "df.rename(columns={\"Hx Radiothreapy\": \"Hx Radiotherapy\"}, inplace=True)\n",
    "\n",
    "# Count plots for categorical variables\n",
    "categorical_cols = ['Gender', 'Smoking', 'Hx Smoking', 'Hx Radiotherapy', 'Thyroid Function',\n",
    "                    'Physical Examination', 'Adenopathy', 'Pathology', 'Focality', 'Risk', 'Response', 'Recurred']\n",
    "plt.figure(figsize=(11, 11))\n",
    "for i, col in enumerate(categorical_cols, 1):\n",
    "    plt.subplot(4, 3, i)\n",
    "    sns.countplot(x=df[col], hue=df[col], palette=\"coolwarm\", edgecolor=\"black\", legend=False)\n",
    "    plt.title(col)\n",
    "    plt.xticks(rotation=45)\n",
    "\n",
    "plt.tight_layout()\n",
    "plt.show()\n"
   ]
  },
  {
   "cell_type": "markdown",
   "id": "df14a396-4c3a-4b54-9d2b-6dde248b5631",
   "metadata": {},
   "source": [
    "## Boxplots for Outlier Detection"
   ]
  },
  {
   "cell_type": "code",
   "execution_count": null,
   "id": "799077e1-fa3a-4332-a31a-25190eb1d742",
   "metadata": {},
   "outputs": [],
   "source": [
    "numerical_cols = ['Age', 'T', 'N', 'M', 'Stage']\n",
    "\n",
    "plt.figure(figsize=(10, 6))\n",
    "for i, col in enumerate(numerical_cols, 1):\n",
    "    plt.subplot(2, 3, i)\n",
    "    sns.boxplot(x=df[col], color=\"skyblue\")\n",
    "    plt.title(col)\n",
    "\n",
    "plt.suptitle(\"Boxplots for Outlier Detection\", fontsize=15)\n",
    "plt.tight_layout()\n",
    "plt.show()"
   ]
  },
  {
   "cell_type": "markdown",
   "id": "a6f22b6c-eeca-460a-85e6-e80e4c8d1c5a",
   "metadata": {},
   "source": [
    "## Age vs Cancer Recurrence"
   ]
  },
  {
   "cell_type": "code",
   "execution_count": null,
   "id": "8812ac81-3798-4c1d-ac19-910ca1c4e6a6",
   "metadata": {},
   "outputs": [],
   "source": [
    "plt.figure(figsize=(8, 5))\n",
    "sns.boxplot(x='Recurred', y='Age', data=df, hue='Recurred', palette='pastel', legend=False)\n",
    "plt.title('Age vs Cancer Recurrence')\n",
    "plt.show()"
   ]
  },
  {
   "cell_type": "markdown",
   "id": "89a71823-7100-4017-accf-187feb72ef6d",
   "metadata": {},
   "source": [
    "## Feature Engineering {Encode Categorical Features}"
   ]
  },
  {
   "cell_type": "code",
   "execution_count": null,
   "id": "58430f42-7960-4cf4-8471-602a375b02f7",
   "metadata": {
    "scrolled": true
   },
   "outputs": [],
   "source": [
    "# Define categorical columns\n",
    "numerical_cols = ['Age', 'T', 'N', 'M', 'Stage']\n",
    "# Identify all categorical columns\n",
    "categorical_cols = df.select_dtypes(include=['object']).columns\n",
    "\n",
    "#  Label Encoding (for ordinal categories)\n",
    "df_label_encoded = df.copy()  # Create a copy of the original DataFrame\n",
    "for col in categorical_cols:\n",
    "    le = LabelEncoder()  # Create a new LabelEncoder instance for each column\n",
    "    df_label_encoded[col] = le.fit_transform(df_label_encoded[col])\n",
    "    df[col] = le.fit_transform(df[col].astype(str))\n",
    "\n",
    "# One-Hot Encoding (for nominal categories)\n",
    "df_one_hot_encoded = pd.get_dummies(df, columns=categorical_cols, drop_first=True)\n",
    "\n",
    "# Print results\n",
    "print(\"Label Encoded DataFrame:\")\n",
    "print(df_label_encoded.head())\n",
    "\n",
    "print(\"\\nOne-Hot Encoded DataFrame:\")\n",
    "print(df_one_hot_encoded.head())\n"
   ]
  },
  {
   "cell_type": "markdown",
   "id": "ba44821d-d5f5-463b-a189-ba78229d5ac5",
   "metadata": {},
   "source": [
    "## Correlation Matrix & Heatmap"
   ]
  },
  {
   "cell_type": "code",
   "execution_count": null,
   "id": "7f6387bd-46d8-444b-b2d5-32dc1ce64b0f",
   "metadata": {},
   "outputs": [],
   "source": [
    "# Compute correlation matrix\n",
    "corr_matrix = df.corr()\n",
    "\n",
    "# Plot heatmap\n",
    "plt.figure(figsize=(12, 6))\n",
    "sns.heatmap(corr_matrix, annot=True, cmap=\"coolwarm\", fmt=\".2f\", linewidths=0.5)\n",
    "plt.title(\"Feature Correlation Heatmap\")\n",
    "plt.show()\n"
   ]
  },
  {
   "cell_type": "markdown",
   "id": "824d95e1-50c5-4793-bdab-df795e8faef6",
   "metadata": {},
   "source": [
    "## Feature Scaling (Standardization)"
   ]
  },
  {
   "cell_type": "code",
   "execution_count": null,
   "id": "cd686cf7-faca-48a3-9bb2-93d215eba6c9",
   "metadata": {},
   "outputs": [],
   "source": [
    "# Initialize the scaler\n",
    "scaler = StandardScaler()\n",
    "\n",
    "# Apply standardization to all numerical columns\n",
    "numerical_cols = df.select_dtypes(include=['int64', 'float64']).columns  # Identify numerical columns\n",
    "df[numerical_cols] = scaler.fit_transform(df[numerical_cols])\n",
    "\n",
    "# Display the first few rows after scaling\n",
    "df.head()"
   ]
  },
  {
   "cell_type": "markdown",
   "id": "65d7afe7-4740-4017-bb1e-ce4f5444c0c3",
   "metadata": {},
   "source": [
    "## ML MODEL IMPLEMETATION"
   ]
  },
  {
   "cell_type": "code",
   "execution_count": null,
   "id": "0d94351a-17c2-4caa-97e3-8a6e98cf72d4",
   "metadata": {},
   "outputs": [],
   "source": [
    "# Define features (X) and target variable (y)\n",
    "print(df['Recurred'].value_counts())\n",
    "X = df.drop(columns=['Recurred'])  # Replace 'Target_Column' with your actual target variable\n",
    "y = df['Recurred']\n",
    "\n",
    "# Split the dataset\n",
    "X_train, X_test, y_train, y_test = train_test_split(X, y, test_size=0.2, random_state=42, stratify=y)\n",
    "\n",
    "print(\"Training set size:\", X_train.shape)\n",
    "print(\"Testing set size:\", X_test.shape)\n"
   ]
  },
  {
   "cell_type": "markdown",
   "id": "00a8e430-3987-42c8-af69-1f8037f8641d",
   "metadata": {},
   "source": [
    "## Model RandomForest Classifier"
   ]
  },
  {
   "cell_type": "code",
   "execution_count": null,
   "id": "e8eb7c76-bbae-4eb9-8f4c-9ce27d529d2e",
   "metadata": {},
   "outputs": [],
   "source": [
    "clf = RandomForestClassifier(n_estimators=100, random_state=42)\n",
    "clf.fit(X_train, y_train)"
   ]
  },
  {
   "cell_type": "code",
   "execution_count": null,
   "id": "b767b9c0-d1f4-4815-989d-f9a84c27c7e0",
   "metadata": {},
   "outputs": [],
   "source": [
    "y_pred = clf.predict(X_test)\n",
    "y_prob = clf.predict_proba(X_test)[:, 1]  # Probability scores for ROC AUC"
   ]
  },
  {
   "cell_type": "markdown",
   "id": "c7933bd0-eb89-422f-8e38-6a2fc94573f9",
   "metadata": {},
   "source": [
    "## Evaluate the Model"
   ]
  },
  {
   "cell_type": "code",
   "execution_count": null,
   "id": "79e4563e-cd1b-43d7-af48-6268fd578b63",
   "metadata": {},
   "outputs": [],
   "source": [
    "print(\"Accuracy:\", accuracy_score(y_test, y_pred))\n",
    "print(\"Classification Report:\\n\", classification_report(y_test, y_pred))\n",
    "print(\"Confusion Matrix:\\n\", confusion_matrix(y_test, y_pred))\n",
    "print(\"ROC AUC Score:\", roc_auc_score(y_test, y_prob))"
   ]
  },
  {
   "cell_type": "markdown",
   "id": "391dacb3-130c-463a-b314-74bda4a211b8",
   "metadata": {},
   "source": [
    "## Classification Report"
   ]
  },
  {
   "cell_type": "code",
   "execution_count": null,
   "id": "a20f3931-5cdf-4728-909e-40b5a574440e",
   "metadata": {},
   "outputs": [],
   "source": [
    "# Generate classification report as a dictionary\n",
    "report_dict = classification_report(y_test, y_pred, output_dict=True)\n",
    "\n",
    "# Convert to DataFrame for visualization\n",
    "report_df = pd.DataFrame(report_dict).T\n",
    "\n",
    "# Plot heatmap\n",
    "plt.figure(figsize=(8, 5))\n",
    "sns.heatmap(report_df.iloc[:-1, :-1], annot=True, cmap=\"coolwarm\", linewidths=0.5)\n",
    "plt.title(\"Classification Report Heatmap\")\n",
    "plt.show()"
   ]
  },
  {
   "cell_type": "markdown",
   "id": "b5b022b1-3d8f-41f3-b62d-54e30210aeeb",
   "metadata": {},
   "source": [
    "## Feature Importance"
   ]
  },
  {
   "cell_type": "code",
   "execution_count": null,
   "id": "f001b1ff-4c61-4d49-8b30-fa1b0b081cd2",
   "metadata": {},
   "outputs": [],
   "source": [
    "# Get feature importance\n",
    "importances = clf.feature_importances_\n",
    "features = X.columns\n",
    "\n",
    "# Plot feature importance\n",
    "plt.figure(figsize=(8, 5))\n",
    "sns.barplot(x=importances, y=features, palette='viridis')\n",
    "plt.xlabel('Importance Score')\n",
    "plt.ylabel('Features')\n",
    "plt.title('Feature Importance in Random Forest')\n",
    "plt.show()\n"
   ]
  },
  {
   "cell_type": "markdown",
   "id": "305f36d1-9d71-4a6a-802a-9035dda0afd3",
   "metadata": {},
   "source": [
    "## Confusion Matrix Heatmap"
   ]
  },
  {
   "cell_type": "code",
   "execution_count": null,
   "id": "58335dc7-9547-4fe3-a6e5-98b3ef1a11c7",
   "metadata": {},
   "outputs": [],
   "source": [
    "# Compute confusion matrix\n",
    "cm = confusion_matrix(y_test, y_pred)\n",
    "\n",
    "# Plot confusion matrix as heatmap\n",
    "plt.figure(figsize=(6, 4))\n",
    "sns.heatmap(cm, annot=True, fmt='d', cmap='Blues', xticklabels=['No Recurrence', 'Recurrence'], yticklabels=['No Recurrence', 'Recurrence'])\n",
    "plt.xlabel('Predicted')\n",
    "plt.ylabel('Actual')\n",
    "plt.title('Confusion Matrix')\n",
    "plt.show()\n",
    "print(\"Confusion Matrix:\\n\", confusion_matrix(y_test, y_pred))"
   ]
  },
  {
   "cell_type": "markdown",
   "id": "41102dee-0400-4630-8805-c5b949cd7877",
   "metadata": {},
   "source": [
    "## ROC Curve"
   ]
  },
  {
   "cell_type": "code",
   "execution_count": null,
   "id": "f205f0e9-8a96-4b15-a3cf-0e68317b90fb",
   "metadata": {},
   "outputs": [],
   "source": [
    "# Compute ROC curve and AUC score\n",
    "fpr, tpr, _ = roc_curve(y_test, y_prob)\n",
    "roc_auc = auc(fpr, tpr)\n",
    "\n",
    "# Plot ROC Curve\n",
    "plt.figure(figsize=(6, 4))\n",
    "plt.plot(fpr, tpr, color='blue', lw=2, label=f'ROC curve (AUC = {roc_auc:.2f})')\n",
    "plt.plot([0, 1], [0, 1], color='grey', linestyle='--')  # Diagonal reference line\n",
    "plt.xlabel('False Positive Rate')\n",
    "plt.ylabel('True Positive Rate')\n",
    "plt.title('ROC Curve')\n",
    "plt.legend(loc='lower right')\n",
    "plt.show()"
   ]
  },
  {
   "cell_type": "markdown",
   "id": "d5838f31-ab58-4799-9047-81736a3686f6",
   "metadata": {},
   "source": [
    "## Distribution of Predictions"
   ]
  },
  {
   "cell_type": "code",
   "execution_count": null,
   "id": "11bbea9f-c6e1-4f58-87f0-38f2889e2947",
   "metadata": {},
   "outputs": [],
   "source": [
    "sns.histplot(y_prob, bins=30, kde=True, color='purple')\n",
    "plt.axvline(0.5, color='red', linestyle='--')  # Decision boundary\n",
    "plt.xlabel('Prediction Probability')\n",
    "plt.ylabel('Count')\n",
    "plt.title('Distribution of Prediction Probabilities')\n",
    "plt.show()\n"
   ]
  },
  {
   "cell_type": "code",
   "execution_count": null,
   "id": "8bdbaaad-1c6a-46ea-be2d-1591cefbf818",
   "metadata": {},
   "outputs": [],
   "source": []
  }
 ],
 "metadata": {
  "kernelspec": {
   "display_name": "Python 3 (ipykernel)",
   "language": "python",
   "name": "python3"
  },
  "language_info": {
   "codemirror_mode": {
    "name": "ipython",
    "version": 3
   },
   "file_extension": ".py",
   "mimetype": "text/x-python",
   "name": "python",
   "nbconvert_exporter": "python",
   "pygments_lexer": "ipython3",
   "version": "3.12.3"
  }
 },
 "nbformat": 4,
 "nbformat_minor": 5
}
